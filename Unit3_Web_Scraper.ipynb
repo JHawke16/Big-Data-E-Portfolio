{
 "cells": [
  {
   "cell_type": "code",
   "execution_count": 45,
   "id": "cf11e807",
   "metadata": {},
   "outputs": [],
   "source": [
    "import requests\n",
    "from bs4 import BeautifulSoup\n",
    "import json\n",
    "import re"
   ]
  },
  {
   "cell_type": "code",
   "execution_count": 46,
   "id": "60d516fc",
   "metadata": {},
   "outputs": [],
   "source": [
    "# URL of the page that I am scraping\n",
    "url = 'https://www.ibm.com/topics/data-science'"
   ]
  },
  {
   "cell_type": "code",
   "execution_count": 47,
   "id": "52bb2357",
   "metadata": {},
   "outputs": [],
   "source": [
    "# Submitting the GET request\n",
    "response = requests.get(url)\n",
    "\n",
    "# Parsing the page contents\n",
    "soup = BeautifulSoup(response.text, 'html.parser')"
   ]
  },
  {
   "cell_type": "code",
   "execution_count": 48,
   "id": "d7f9e832",
   "metadata": {},
   "outputs": [
    {
     "name": "stdout",
     "output_type": "stream",
     "text": [
      "As a result, it is no surprise that the role of the data scientist was dubbed the “sexiest job of the 21st century” by Harvard Business Review (link resides outside of IBM).\n",
      "Data science is considered a discipline, while data scientists are the practitioners within that field.\n",
      "Data scientists are not necessarily directly responsible for all the processes involved in the data science lifecycle.\n",
      "For example, data pipelines are typically handled by data engineers—but the data scientist may make recommendations about what sort of data is useful or required.\n",
      "While data scientists can build machine learning models, scaling these efforts at a larger level requires more software engineering skills to optimize a program to run more quickly.\n",
      "As a result, it’s common for a data scientist to partner with machine learning engineers to scale machine learning models.\n",
      "Data scientist responsibilities can commonly overlap with a data analyst, particularly with exploratory data analysis and data visualization.\n",
      "However, a data scientist’s skillset is typically broader than the average data analyst.\n",
      "Comparatively speaking, data scientist leverage common programming languages, such as R and Python, to conduct more statistical inference and data visualization.\n",
      "To perform these tasks, data scientists require computer science and pure science skills beyond those of a typical business analyst or data analyst.\n",
      "The data scientist must also understand the specifics of the business, such as automobile manufacturing, eCommerce, or healthcare.\n",
      "In short, a data scientist must be able to:\n",
      "Data scientists rely on popular programming languages to conduct exploratory data analysis and statistical regression.\n",
      "To facilitate sharing code and other information, data scientists may use GitHub and Jupyter notebooks.\n",
      "Some data scientists may prefer a user interface, and two common enterprise tools for statistical analysis include:\n",
      "Data scientists also gain proficiency in using big data processing platforms, such as Apache Spark, the open source framework Apache Hadoop, and NoSQL databases.\n",
      "For building machine learning models, data scientists frequently turn to several frameworks like PyTorch, TensorFlow, MXNet, and Spark MLib.\n",
      "To address this gap, they are turning to multipersona data science and machine learning (DSML) platforms, giving rise to the role of “citizen data scientist.”\n",
      "These platforms also support expert data scientists by also offering a more technical interface.\n",
      "Several cloud providers, including IBM Cloud®, also offer prepackaged tool kits that enable data scientists to build models without coding, further democratizing access to technology innovations and data insights. \n"
     ]
    }
   ],
   "source": [
    "# Finding the elements that contain the keyword 'data scientist'\n",
    "data_scientist_elements = soup.find_all(lambda tag: tag.name == \"p\" and \"data scientist\" in tag.text.lower())\n",
    "\n",
    "# Printing output to check scraper\n",
    "for element in data_scientist_elements:\n",
    "    # Splitting the paragraph into sentences\n",
    "    sentences = re.split(r'(?<=[.!?]) +', element.text)\n",
    "    # Filtering sentences that contain 'data scientist'\n",
    "    relevant_sentences = [sentence for sentence in sentences if \"data scientist\" in sentence.lower()]\n",
    "    # Printing the filtered sentences\n",
    "    for sentence in relevant_sentences:\n",
    "        print(sentence)"
   ]
  },
  {
   "cell_type": "code",
   "execution_count": 49,
   "id": "29c6ed71",
   "metadata": {},
   "outputs": [],
   "source": [
    "# Storing the data in JSON format\n",
    "data_to_store = [element.text for element in data_scientist_elements]\n",
    "json_data = json.dumps(data_to_store)"
   ]
  },
  {
   "cell_type": "code",
   "execution_count": 50,
   "id": "07d4a1c2",
   "metadata": {},
   "outputs": [],
   "source": [
    "# Writing the JSON data in a file\n",
    "with open('data_scientist_info.json', 'w') as file:\n",
    "    file.write(json_data)"
   ]
  },
  {
   "cell_type": "code",
   "execution_count": null,
   "id": "492c3525",
   "metadata": {},
   "outputs": [],
   "source": []
  }
 ],
 "metadata": {
  "kernelspec": {
   "display_name": "Python 3 (ipykernel)",
   "language": "python",
   "name": "python3"
  },
  "language_info": {
   "codemirror_mode": {
    "name": "ipython",
    "version": 3
   },
   "file_extension": ".py",
   "mimetype": "text/x-python",
   "name": "python",
   "nbconvert_exporter": "python",
   "pygments_lexer": "ipython3",
   "version": "3.9.13"
  }
 },
 "nbformat": 4,
 "nbformat_minor": 5
}
